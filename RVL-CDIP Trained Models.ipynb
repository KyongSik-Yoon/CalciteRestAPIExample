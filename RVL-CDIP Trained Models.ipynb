{
  "nbformat": 4,
  "nbformat_minor": 0,
  "metadata": {
    "colab": {
      "name": "Welcome To Colaboratory",
      "version": "0.3.2",
      "provenance": [],
      "collapsed_sections": [],
      "toc_visible": true,
      "include_colab_link": true
    },
    "kernelspec": {
      "display_name": "Python 3",
      "name": "python3"
    }
  },
  "cells": [
    {
      "cell_type": "markdown",
      "metadata": {
        "id": "view-in-github",
        "colab_type": "text"
      },
      "source": [
        "<a href=\"https://colab.research.google.com/github/gitcloned/CalciteRestAPIExample/blob/master/RVL-CDIP%20Trained%20Models.ipynb\" target=\"_parent\"><img src=\"https://colab.research.google.com/assets/colab-badge.svg\" alt=\"Open In Colab\"/></a>"
      ]
    },
    {
      "cell_type": "markdown",
      "metadata": {
        "colab_type": "text",
        "id": "5fCEDCU_qrC0"
      },
      "source": [
        "<p><img alt=\"Colaboratory logo\" height=\"45px\" src=\"https://colab.research.google.com/img/colab_favicon.ico\" align=\"left\" hspace=\"10px\" vspace=\"0px\"></p>\n",
        "\n",
        "<h1>Welcome to Colaboratory!</h1>\n",
        "\n",
        "\n",
        "Colaboratory is a free Jupyter notebook environment that requires no setup and runs entirely in the cloud.\n",
        "\n",
        "With Colaboratory you can write and execute code, save and share your analyses, and access powerful computing resources, all for free from your browser."
      ]
    },
    {
      "cell_type": "code",
      "metadata": {
        "colab_type": "code",
        "id": "xitplqMNk_Hc",
        "outputId": "ed4f60d2-878d-4056-c438-352dac39a112",
        "colab": {
          "height": 420
        }
      },
      "source": [
        "#@title Introducing Colaboratory { display-mode: \"form\" }\n",
        "#@markdown This 3-minute video gives an overview of the key features of Colaboratory:\n",
        "from IPython.display import YouTubeVideo\n",
        "YouTubeVideo('inN8seMm7UI', width=600, height=400)"
      ],
      "execution_count": 0,
      "outputs": [
        {
          "output_type": "execute_result",
          "data": {
            "text/html": [
              "\n",
              "        <iframe\n",
              "            width=\"600\"\n",
              "            height=\"400\"\n",
              "            src=\"https://www.youtube.com/embed/inN8seMm7UI\"\n",
              "            frameborder=\"0\"\n",
              "            allowfullscreen\n",
              "        ></iframe>\n",
              "        "
            ],
            "text/plain": [
              "<IPython.lib.display.YouTubeVideo at 0x7f956e9dda50>"
            ]
          },
          "metadata": {
            "tags": []
          },
          "execution_count": 0
        }
      ]
    },
    {
      "cell_type": "markdown",
      "metadata": {
        "colab_type": "text",
        "id": "GJBs_flRovLc"
      },
      "source": [
        "## Getting Started\n",
        "\n",
        "The document you are reading is a  [Jupyter notebook](https://jupyter.org/), hosted in Colaboratory. It is not a static page, but an interactive environment that lets you write and execute code in Python and other languages.\n",
        "\n",
        "For example, here is a **code cell** with a short Python script that computes a value, stores it in a variable, and prints the result:"
      ]
    },
    {
      "cell_type": "code",
      "metadata": {
        "colab_type": "code",
        "id": "gJr_9dXGpJ05",
        "outputId": "5626194c-e802-4293-942d-2908885c3c1f",
        "colab": {
          "height": 35
        }
      },
      "source": [
        "seconds_in_a_day = 24 * 60 * 60\n",
        "seconds_in_a_day"
      ],
      "execution_count": 0,
      "outputs": [
        {
          "output_type": "execute_result",
          "data": {
            "text/plain": [
              "86400"
            ]
          },
          "metadata": {
            "tags": []
          },
          "execution_count": 0
        }
      ]
    },
    {
      "cell_type": "markdown",
      "metadata": {
        "colab_type": "text",
        "id": "2fhs6GZ4qFMx"
      },
      "source": [
        "To execute the code in the above cell, select it with a click and then either press the play button to the left of the code, or use the keyboard shortcut \"Command/Ctrl+Enter\".\n",
        "\n",
        "All cells modify the same global state, so variables that you define by executing a cell can be used in other cells:"
      ]
    },
    {
      "cell_type": "code",
      "metadata": {
        "colab_type": "code",
        "id": "-gE-Ez1qtyIA",
        "outputId": "8d2e4259-4682-4e19-b683-7b9087f28820",
        "colab": {
          "height": 35
        }
      },
      "source": [
        "seconds_in_a_week = 7 * seconds_in_a_day\n",
        "seconds_in_a_week"
      ],
      "execution_count": 0,
      "outputs": [
        {
          "output_type": "execute_result",
          "data": {
            "text/plain": [
              "604800"
            ]
          },
          "metadata": {
            "tags": []
          },
          "execution_count": 0
        }
      ]
    },
    {
      "cell_type": "markdown",
      "metadata": {
        "colab_type": "text",
        "id": "lSrWNr3MuFUS"
      },
      "source": [
        "For more information about working with Colaboratory notebooks, see [Overview of Colaboratory](/notebooks/basic_features_overview.ipynb).\n"
      ]
    },
    {
      "cell_type": "markdown",
      "metadata": {
        "colab_type": "text",
        "id": "-Rh3-Vt9Nev9"
      },
      "source": [
        "## More Resources\n",
        "\n",
        "Learn how to make the most of Python, Jupyter, Colaboratory, and related tools with these resources:\n",
        "\n",
        "### Working with Notebooks in Colaboratory\n",
        "- [Overview of Colaboratory](/notebooks/basic_features_overview.ipynb)\n",
        "- [Guide to Markdown](/notebooks/markdown_guide.ipynb)\n",
        "- [Importing libraries and installing dependencies](/notebooks/snippets/importing_libraries.ipynb)\n",
        "- [Saving and loading notebooks in GitHub](https://colab.research.google.com/github/googlecolab/colabtools/blob/master/notebooks/colab-github-demo.ipynb)\n",
        "- [Interactive forms](/notebooks/forms.ipynb)\n",
        "- [Interactive widgets](/notebooks/widgets.ipynb)\n",
        "\n",
        "### Working with Data\n",
        "- [Loading data: Drive, Sheets, and Google Cloud Storage](/notebooks/io.ipynb) \n",
        "- [Charts: visualizing data](/notebooks/charts.ipynb)\n",
        "- [Getting started with BigQuery](/notebooks/bigquery.ipynb)\n",
        "\n",
        "### Machine Learning Crash Course\n",
        "These are a few of the notebooks from Google's online Machine Learning course. See the [full course website](https://developers.google.com/machine-learning/crash-course/) for more.\n",
        "- [Intro to Pandas](/notebooks/mlcc/intro_to_pandas.ipynb)\n",
        "- [Tensorflow concepts](/notebooks/mlcc/tensorflow_programming_concepts.ipynb)\n",
        "- [First steps with TensorFlow](/notebooks/mlcc/first_steps_with_tensor_flow.ipynb)\n",
        "- [Intro to neural nets](/notebooks/mlcc/intro_to_neural_nets.ipynb)\n",
        "- [Intro to sparse data and embeddings](/notebooks/mlcc/intro_to_sparse_data_and_embeddings.ipynb)\n",
        "\n",
        "### Using Accelerated Hardware\n",
        "- [TensorFlow with GPUs](/notebooks/gpu.ipynb)\n",
        "- [TensorFlow with TPUs](/notebooks/tpu.ipynb)"
      ]
    },
    {
      "cell_type": "markdown",
      "metadata": {
        "colab_type": "text",
        "id": "P-H6Lw1vyNNd"
      },
      "source": [
        "## Machine Learning Examples: Seedbank\n",
        "\n",
        "To see end-to-end examples of the interactive machine learning analyses that Colaboratory makes possible, check out the [Seedbank](https://research.google.com/seedbank/) project.\n",
        "\n",
        "A few featured examples:\n",
        "\n",
        "- [Neural Style Transfer](https://research.google.com/seedbank/seed/neural_style_transfer_with_tfkeras): Use deep learning to transfer style between images.\n",
        "- [EZ NSynth](https://research.google.com/seedbank/seed/ez_nsynth): Synthesize audio with WaveNet auto-encoders.\n",
        "- [Fashion MNIST with Keras and TPUs](https://research.google.com/seedbank/seed/fashion_mnist_with_keras_and_tpus): Classify fashion-related images with deep learning.\n",
        "- [DeepDream](https://research.google.com/seedbank/seed/deepdream): Produce DeepDream images from your own photos.\n",
        "- [Convolutional VAE](https://research.google.com/seedbank/seed/convolutional_vae): Create a generative model of handwritten digits."
      ]
    },
    {
      "cell_type": "code",
      "metadata": {
        "id": "MOp-BrK0alc3",
        "colab_type": "code",
        "colab": {
          "base_uri": "https://localhost:8080/",
          "height": 122
        },
        "outputId": "9118d66e-2d67-4490-d3fa-c540c402c6d5"
      },
      "source": [
        "from google.colab import drive\n",
        "drive.mount('/content/gdrive')"
      ],
      "execution_count": 1,
      "outputs": [
        {
          "output_type": "stream",
          "text": [
            "Go to this URL in a browser: https://accounts.google.com/o/oauth2/auth?client_id=947318989803-6bn6qk8qdgf4n4g3pfee6491hc0brc4i.apps.googleusercontent.com&redirect_uri=urn%3Aietf%3Awg%3Aoauth%3A2.0%3Aoob&scope=email%20https%3A%2F%2Fwww.googleapis.com%2Fauth%2Fdocs.test%20https%3A%2F%2Fwww.googleapis.com%2Fauth%2Fdrive%20https%3A%2F%2Fwww.googleapis.com%2Fauth%2Fdrive.photos.readonly%20https%3A%2F%2Fwww.googleapis.com%2Fauth%2Fpeopleapi.readonly&response_type=code\n",
            "\n",
            "Enter your authorization code:\n",
            "··········\n",
            "Mounted at /content/gdrive\n"
          ],
          "name": "stdout"
        }
      ]
    },
    {
      "cell_type": "code",
      "metadata": {
        "id": "X_nMoUYzbCSc",
        "colab_type": "code",
        "colab": {}
      },
      "source": [
        "import os\n",
        "import numpy as np"
      ],
      "execution_count": 0,
      "outputs": []
    },
    {
      "cell_type": "code",
      "metadata": {
        "id": "a-Czk7eMbEMD",
        "colab_type": "code",
        "colab": {
          "base_uri": "https://localhost:8080/",
          "height": 34
        },
        "outputId": "b854248f-afa2-40fd-c917-165b0baf1bf2"
      },
      "source": [
        "from keras import backend as K\n",
        "# from keras.utils.layer_utils import convert_all_kernels_in_model\n",
        "from keras.applications import VGG16 "
      ],
      "execution_count": 3,
      "outputs": [
        {
          "output_type": "stream",
          "text": [
            "Using TensorFlow backend.\n"
          ],
          "name": "stderr"
        }
      ]
    },
    {
      "cell_type": "code",
      "metadata": {
        "id": "KsoWB3DubXh7",
        "colab_type": "code",
        "colab": {
          "base_uri": "https://localhost:8080/",
          "height": 258
        },
        "outputId": "404c79b0-5f6a-472a-e12c-661d57bca1df"
      },
      "source": [
        "K.set_image_data_format('channels_first')\n",
        "th_dim_model = VGG16(include_top=True, weights=None, input_shape=(3,224,224), pooling=None, classes=16) # Create your theano model here with TH dim ordering\n",
        "\n",
        "K.set_image_data_format('channels_last')\n",
        "tf_dim_model = VGG16(include_top=True, weights=None, input_shape=(224,224,3), pooling=None, classes=16) # Create your tensorflow model with TF dimordering here\n"
      ],
      "execution_count": 4,
      "outputs": [
        {
          "output_type": "stream",
          "text": [
            "WARNING: Logging before flag parsing goes to stderr.\n",
            "W0827 09:34:53.361659 140439828920192 deprecation_wrapper.py:119] From /usr/local/lib/python3.6/dist-packages/keras/backend/tensorflow_backend.py:74: The name tf.get_default_graph is deprecated. Please use tf.compat.v1.get_default_graph instead.\n",
            "\n",
            "W0827 09:34:53.409682 140439828920192 deprecation_wrapper.py:119] From /usr/local/lib/python3.6/dist-packages/keras/backend/tensorflow_backend.py:517: The name tf.placeholder is deprecated. Please use tf.compat.v1.placeholder instead.\n",
            "\n",
            "W0827 09:34:53.419394 140439828920192 deprecation_wrapper.py:119] From /usr/local/lib/python3.6/dist-packages/keras/backend/tensorflow_backend.py:4138: The name tf.random_uniform is deprecated. Please use tf.random.uniform instead.\n",
            "\n",
            "W0827 09:34:53.440205 140439828920192 deprecation_wrapper.py:119] From /usr/local/lib/python3.6/dist-packages/keras/backend/tensorflow_backend.py:174: The name tf.get_default_session is deprecated. Please use tf.compat.v1.get_default_session instead.\n",
            "\n",
            "W0827 09:34:53.441375 140439828920192 deprecation_wrapper.py:119] From /usr/local/lib/python3.6/dist-packages/keras/backend/tensorflow_backend.py:181: The name tf.ConfigProto is deprecated. Please use tf.compat.v1.ConfigProto instead.\n",
            "\n",
            "W0827 09:34:53.809878 140439828920192 deprecation_wrapper.py:119] From /usr/local/lib/python3.6/dist-packages/keras/backend/tensorflow_backend.py:3976: The name tf.nn.max_pool is deprecated. Please use tf.nn.max_pool2d instead.\n",
            "\n"
          ],
          "name": "stderr"
        }
      ]
    },
    {
      "cell_type": "code",
      "metadata": {
        "id": "w7lXL2yebbax",
        "colab_type": "code",
        "colab": {}
      },
      "source": [
        "model_weights = ['vgg16_weights_th_dim_ordering_th_kernels_Holistic_91.11.h5']"
      ],
      "execution_count": 0,
      "outputs": []
    },
    {
      "cell_type": "code",
      "metadata": {
        "id": "OXthvUtUbi9u",
        "colab_type": "code",
        "colab": {}
      },
      "source": [
        "def shuffle_rows(original_w, nb_last_conv, nb_rows_dense):\n",
        "    ''' Note :\n",
        "    This algorithm to shuffle dense layer rows was provided by Kent Sommers (@kentsommer)\n",
        "    in a gist : https://gist.github.com/kentsommer/e872f65926f1a607b94c2b464a63d0d3\n",
        "    '''\n",
        "    converted_w = np.zeros(original_w.shape)\n",
        "    count = 0\n",
        "    for index in range(original_w.shape[0]):\n",
        "        if (index % nb_last_conv) == 0 and index != 0:\n",
        "            count += 1\n",
        "        new_index = ((index % nb_last_conv) * nb_rows_dense) + count\n",
        "        #print(\"index from \" + str(index) + \" -> \" + str(new_index))\n",
        "        converted_w[index] = original_w[new_index]\n",
        "\n",
        "    return converted_w\n",
        "\n",
        "\n",
        "first_dense = True\n",
        "nb_last_conv = 0"
      ],
      "execution_count": 0,
      "outputs": []
    },
    {
      "cell_type": "code",
      "metadata": {
        "id": "h6GW11Y5bnh6",
        "colab_type": "code",
        "colab": {}
      },
      "source": [
        "root_folder = '/content/gdrive/My Drive/Research/OCR/C0002/'\n",
        "dirpath = root_folder + \"tf-kernels-channels-last-dim-ordering/\"\n",
        "if not os.path.exists(dirpath):\n",
        "    os.makedirs(dirpath)"
      ],
      "execution_count": 0,
      "outputs": []
    },
    {
      "cell_type": "code",
      "metadata": {
        "id": "I4uLP4Cyb25v",
        "colab_type": "code",
        "colab": {
          "base_uri": "https://localhost:8080/",
          "height": 496
        },
        "outputId": "f3b42255-2190-4deb-d3d8-e1efb5b2401d"
      },
      "source": [
        "K.set_image_dim_ordering('th')\n",
        "for weight_fn in model_weights:\n",
        "    th_dim_model.load_weights(root_folder + weight_fn) # th-kernels-th-dim\n",
        "    #convert_all_kernels_in_model(th_dim_model) # tf-kernels-th-dim // ALREADY DONE BY KERAS!\n",
        "\n",
        "    count_dense = 0\n",
        "    for layer in th_dim_model.layers:\n",
        "        if layer.__class__.__name__ == \"Dense\":\n",
        "            count_dense += 1\n",
        "\n",
        "    if count_dense == 1:\n",
        "        first_dense = False # If there is only 1 dense, no need to perform row shuffle in Dense layer\n",
        "\n",
        "    print(\"Nb layers : \", len(th_dim_model.layers))\n",
        "\n",
        "    for index, th_layer in enumerate(th_dim_model.layers):\n",
        "        if th_layer.__class__.__name__ in ['Conv1D',\n",
        "                                           'Conv2D',\n",
        "                                           'Conv3D',\n",
        "                                           'AtrousConvolution1D'\n",
        "                                           'AtrousConvolution2D',\n",
        "                                           'Conv2DTranspose',\n",
        "                                           'SeparableConv2D',\n",
        "                                           'DepthwiseConv2D',\n",
        "                                           ]:\n",
        "            weights = th_layer.get_weights() # tf-kernels-th-dim\n",
        "            #weights[0] = weights[0].transpose((2, 3, 1, 0)) // ALREADY DONE BY KERAS!\n",
        "            tf_dim_model.layers[index].set_weights(weights) # tf-kernels-tf-dim\n",
        "\n",
        "            nb_last_conv = th_layer.filters # preserve last number of convolutions to use with dense layers // UPDATED from nb_filters\n",
        "            print(\"Converted layer %d : %s\" % (index + 1, th_layer.name))\n",
        "        else:\n",
        "            if th_layer.__class__.__name__ == \"Dense\" and first_dense:\n",
        "                weights = th_layer.get_weights()\n",
        "                nb_rows_dense_layer = weights[0].shape[0] // nb_last_conv\n",
        "\n",
        "                print(\"Magic Number 1 : \", nb_last_conv)\n",
        "                print(\"Magic nunber 2 : \", nb_rows_dense_layer)\n",
        "\n",
        "                weights[0] = shuffle_rows(weights[0], nb_last_conv, nb_rows_dense_layer)\n",
        "                tf_dim_model.layers[index].set_weights(weights)\n",
        "\n",
        "                first_dense = False\n",
        "                print(\"Shuffled Dense Weights layer and saved %d : %s\" % (index + 1, th_layer.name))\n",
        "            else:\n",
        "                tf_dim_model.layers[index].set_weights(th_layer.get_weights())\n",
        "                print(\"Saved layer %d : %s\" % (index + 1, th_layer.name))\n",
        "\n",
        "  \n",
        "    tf_dim_model.save_weights(\"/content/gdrive/My Drive/Research/OCR/C0002/tf-kernels-channels-last-dim-ordering/%s\" % weight_fn, overwrite=True)\n",
        "    print(\"Done tf-kernels-channels-last-dim-ordering %s\" % weight_fn)"
      ],
      "execution_count": 14,
      "outputs": [
        {
          "output_type": "stream",
          "text": [
            "/usr/local/lib/python3.6/dist-packages/keras/utils/conv_utils.py:82: FutureWarning: Using a non-tuple sequence for multidimensional indexing is deprecated; use `arr[tuple(seq)]` instead of `arr[seq]`. In the future this will be interpreted as an array index, `arr[np.array(seq)]`, which will result either in an error or a different result.\n",
            "  return np.copy(kernel[slices])\n"
          ],
          "name": "stderr"
        },
        {
          "output_type": "stream",
          "text": [
            "Nb layers :  23\n",
            "Saved layer 1 : input_1\n",
            "Converted layer 2 : block1_conv1\n",
            "Converted layer 3 : block1_conv2\n",
            "Saved layer 4 : block1_pool\n",
            "Converted layer 5 : block2_conv1\n",
            "Converted layer 6 : block2_conv2\n",
            "Saved layer 7 : block2_pool\n",
            "Converted layer 8 : block3_conv1\n",
            "Converted layer 9 : block3_conv2\n",
            "Converted layer 10 : block3_conv3\n",
            "Saved layer 11 : block3_pool\n",
            "Converted layer 12 : block4_conv1\n",
            "Converted layer 13 : block4_conv2\n",
            "Converted layer 14 : block4_conv3\n",
            "Saved layer 15 : block4_pool\n",
            "Converted layer 16 : block5_conv1\n",
            "Converted layer 17 : block5_conv2\n",
            "Converted layer 18 : block5_conv3\n",
            "Saved layer 19 : block5_pool\n",
            "Saved layer 20 : flatten\n",
            "Saved layer 21 : fc1\n",
            "Saved layer 22 : fc2\n",
            "Saved layer 23 : predictions\n",
            "Done tf-kernels-channels-last-dim-ordering vgg16_weights_th_dim_ordering_th_kernels_Holistic_91.11.h5\n"
          ],
          "name": "stdout"
        }
      ]
    }
  ]
}